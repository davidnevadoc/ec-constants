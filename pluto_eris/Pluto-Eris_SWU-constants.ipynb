{
 "cells": [
  {
   "cell_type": "markdown",
   "id": "4b2af3fe-8a7f-4bed-a172-b2c8495b59ae",
   "metadata": {},
   "source": [
    "# Pluto / Eris SWU parameters\n"
   ]
  },
  {
   "cell_type": "markdown",
   "id": "ec40919e-c706-4910-96a8-122500586fef",
   "metadata": {},
   "source": [
    "This notebooks computes the Z parameter for the Shallue-van de Woestijne Map in the Pluto/ Eris cycle of curves."
   ]
  },
  {
   "cell_type": "code",
   "execution_count": 19,
   "id": "fb1706b5-7da4-4325-bb9a-0dfcff94558e",
   "metadata": {},
   "outputs": [],
   "source": [
    "# Pluto Base Field\n",
    "p = 0x24000000000024000130e0000d7f70e4a803ca76f439266f443f9a5cda8a6c7be4a7a5fe8fadffd6a2a7e8c30006b9459ffffcd300000001\n",
    "\n",
    "# Eris Base Field\n",
    "q = 0x24000000000024000130e0000d7f70e4a803ca76f439266f443f9a5c7a8a6c7be4a775fe8e177fd69ca7e85d60050af41ffffcd300000001\n",
    "\n",
    "a = 0\n",
    "b = 57\n",
    "\n",
    "# Pluto is y^2 = x^3 + aX + B"
   ]
  },
  {
   "cell_type": "code",
   "execution_count": 20,
   "id": "ecbbef92-37a3-4d08-a66e-972651557ba8",
   "metadata": {},
   "outputs": [],
   "source": [
    "Fp = GF(p)\n",
    "Fq = GF(q)"
   ]
  },
  {
   "cell_type": "code",
   "execution_count": 21,
   "id": "e0d7f6cb-aaad-4ba6-8a6d-87e28ad1f9e5",
   "metadata": {},
   "outputs": [],
   "source": [
    "# https://www.rfc-editor.org/rfc/rfc9380.html#svdw-z-code\n",
    "# Arguments:\n",
    "# - F, a field object, e.g., F = GF(2^521 - 1)\n",
    "# - A and B, the coefficients of the curve y^2 = x^3 + A * x + B\n",
    "def find_z_svdw(F, A, B, init_ctr=1):\n",
    "    g = lambda x: F(x)^3 + F(A) * F(x) + F(B)\n",
    "    h = lambda Z: -(F(3) * Z^2 + F(4) * A) / (F(4) * g(Z))\n",
    "    # NOTE: if init_ctr=1 fails to find Z, try setting it to F.gen()\n",
    "    ctr = init_ctr\n",
    "    while True:\n",
    "        for Z_cand in (F(ctr), F(-ctr)):\n",
    "            # Criterion 1:\n",
    "            #   g(Z) != 0 in F.\n",
    "            if g(Z_cand) == F(0):\n",
    "                continue\n",
    "            # Criterion 2:\n",
    "            #   -(3 * Z^2 + 4 * A) / (4 * g(Z)) != 0 in F.\n",
    "            if h(Z_cand) == F(0):\n",
    "                continue\n",
    "            # Criterion 3:\n",
    "            #   -(3 * Z^2 + 4 * A) / (4 * g(Z)) is square in F.\n",
    "            if not is_square(h(Z_cand)):\n",
    "                continue\n",
    "            # Criterion 4:\n",
    "            #   At least one of g(Z) and g(-Z / 2) is square in F.\n",
    "            if is_square(g(Z_cand)) or is_square(g(-Z_cand / F(2))):\n",
    "                return Z_cand\n",
    "        ctr += 1"
   ]
  },
  {
   "cell_type": "code",
   "execution_count": 22,
   "id": "0c26f91f-37cd-4a45-acfe-911511d2184d",
   "metadata": {},
   "outputs": [],
   "source": [
    "# Helper functions\n",
    "def u_64_little_endian(n):\n",
    "    str_hex = hex(n)\n",
    "    str_hex_without_0x = str_hex[2:]\n",
    "    full_width_str = '0' * (112 - len(str_hex_without_0x)) + str_hex_without_0x\n",
    "    assert len(full_width_str) == 112\n",
    "\n",
    "    res = []\n",
    "    for i in range(7):\n",
    "        temp = '0x' + full_width_str[112 - 16 * (i + 1) : 112 - 16 * i]\n",
    "        res.append(temp)\n",
    "    return res\n",
    "\n",
    "def print_for_rust(elem):\n",
    "    print( hex(elem))\n",
    "    print('\\n')\n",
    "    print('[')\n",
    "    for limb in u_64_little_endian(elem):\n",
    "        print(limb + \",\")\n",
    "    print(']')\n",
    "    print('------\\n')"
   ]
  },
  {
   "cell_type": "code",
   "execution_count": 23,
   "id": "d59a28e7-3682-48d1-b517-bf8638211e3d",
   "metadata": {},
   "outputs": [
    {
     "name": "stdout",
     "output_type": "stream",
     "text": [
      "0x1\n",
      "\n",
      "\n",
      "[\n",
      "0x0000000000000001,\n",
      "0x0000000000000000,\n",
      "0x0000000000000000,\n",
      "0x0000000000000000,\n",
      "0x0000000000000000,\n",
      "0x0000000000000000,\n",
      "0x0000000000000000,\n",
      "]\n",
      "------\n",
      "\n"
     ]
    }
   ],
   "source": [
    "pluto_z = find_z_svdw(Fp, a, b)\n",
    "print_for_rust(pluto_z)\n"
   ]
  },
  {
   "cell_type": "code",
   "execution_count": 24,
   "id": "73c33920-11d1-4ca9-a2eb-a6714f1dd74c",
   "metadata": {},
   "outputs": [
    {
     "name": "stdout",
     "output_type": "stream",
     "text": [
      "0x1\n",
      "\n",
      "\n",
      "[\n",
      "0x0000000000000001,\n",
      "0x0000000000000000,\n",
      "0x0000000000000000,\n",
      "0x0000000000000000,\n",
      "0x0000000000000000,\n",
      "0x0000000000000000,\n",
      "0x0000000000000000,\n",
      "]\n",
      "------\n",
      "\n"
     ]
    }
   ],
   "source": [
    "eris_z = find_z_svdw(Fq, a, b)\n",
    "print_for_rust(eris_z)"
   ]
  },
  {
   "cell_type": "code",
   "execution_count": null,
   "id": "26a766f4-92d3-485c-b7b7-d1ef2c565d3f",
   "metadata": {},
   "outputs": [],
   "source": []
  }
 ],
 "metadata": {
  "kernelspec": {
   "display_name": "SageMath 10.1",
   "language": "sage",
   "name": "sagemath"
  },
  "language_info": {
   "codemirror_mode": {
    "name": "ipython",
    "version": 3
   },
   "file_extension": ".py",
   "mimetype": "text/x-python",
   "name": "python",
   "nbconvert_exporter": "python",
   "pygments_lexer": "ipython3",
   "version": "3.11.5"
  }
 },
 "nbformat": 4,
 "nbformat_minor": 5
}
