{
 "cells": [
  {
   "cell_type": "markdown",
   "id": "4b2af3fe-8a7f-4bed-a172-b2c8495b59ae",
   "metadata": {},
   "source": [
    "# Secp256r1 curve parameters"
   ]
  },
  {
   "cell_type": "code",
   "execution_count": 8,
   "id": "fb1706b5-7da4-4325-bb9a-0dfcff94558e",
   "metadata": {},
   "outputs": [],
   "source": [
    "p_str = \"0xffffffff00000001000000000000000000000000ffffffffffffffffffffffff\"\n",
    "p = int(p_str, 16)\n",
    "a_str = \"0xffffffff00000001000000000000000000000000fffffffffffffffffffffffc\"\n",
    "a = int(a_str, 16)\n",
    "b_str = \"0x5ac635d8aa3a93e7b3ebbd55769886bc651d06b0cc53b0f63bce3c3e27d2604b\"\n",
    "b = int(b_str, 16)"
   ]
  },
  {
   "cell_type": "code",
   "execution_count": 3,
   "id": "ecbbef92-37a3-4d08-a66e-972651557ba8",
   "metadata": {},
   "outputs": [
    {
     "data": {
      "text/plain": [
       "Finite Field of size 115792089210356248762697446949407573530086143415290314195533631308867097853951"
      ]
     },
     "execution_count": 3,
     "metadata": {},
     "output_type": "execute_result"
    }
   ],
   "source": [
    "Fp = GF(p)\n",
    "Fp"
   ]
  },
  {
   "cell_type": "code",
   "execution_count": 17,
   "id": "e0d7f6cb-aaad-4ba6-8a6d-87e28ad1f9e5",
   "metadata": {},
   "outputs": [],
   "source": [
    "# https://datatracker.ietf.org/doc/html/rfc9380#name-finding-z-for-simplified-sw\n",
    "def find_z_sswu(F, A, B):\n",
    "    R.<xx> = F[]                       # Polynomial ring over F\n",
    "    g = xx^3 + F(A) * xx + F(B)        # y^2 = g(x) = x^3 + A * x + B\n",
    "    ctr = F.gen()\n",
    "    while True:\n",
    "        for Z_cand in (F(ctr), F(-ctr)):\n",
    "            # Criterion 1: Z is non-square in F.\n",
    "            if is_square(Z_cand):\n",
    "                continue\n",
    "            # Criterion 2: Z != -1 in F.\n",
    "            if Z_cand == F(-1):\n",
    "                continue\n",
    "            # Criterion 3: g(x) - Z is irreducible over F.\n",
    "            if not (g - Z_cand).is_irreducible():\n",
    "                continue\n",
    "            # Criterion 4: g(B / (Z * A)) is square in F.\n",
    "            if is_square(g(B / (Z_cand * A))):\n",
    "                return Z_cand\n",
    "        ctr += 1"
   ]
  },
  {
   "cell_type": "code",
   "execution_count": 20,
   "id": "0c26f91f-37cd-4a45-acfe-911511d2184d",
   "metadata": {},
   "outputs": [],
   "source": [
    "def u_64_little_endian(n):\n",
    "    str_hex = hex(n)\n",
    "    str_hex_without_0x = str_hex[2:]\n",
    "    full_width_str = '0' * (112 - len(str_hex_without_0x)) + str_hex_without_0x\n",
    "    assert len(full_width_str) == 112\n",
    "\n",
    "    res = []\n",
    "    for i in range(4):\n",
    "        temp = '0x' + full_width_str[112 - 16 * (i + 1) : 112 - 16 * i]\n",
    "        res.append(temp)\n",
    "    return res"
   ]
  },
  {
   "cell_type": "code",
   "execution_count": 24,
   "id": "d59a28e7-3682-48d1-b517-bf8638211e3d",
   "metadata": {},
   "outputs": [
    {
     "data": {
      "text/plain": [
       "['0xfffffffffffffff5',\n",
       " '0x00000000ffffffff',\n",
       " '0x0000000000000000',\n",
       " '0xffffffff00000001']"
      ]
     },
     "execution_count": 24,
     "metadata": {},
     "output_type": "execute_result"
    }
   ],
   "source": [
    "z = find_z_sswu(Fp, a, b)\n",
    "u_64_little_endian(z)\n"
   ]
  },
  {
   "cell_type": "code",
   "execution_count": 27,
   "id": "73c33920-11d1-4ca9-a2eb-a6714f1dd74c",
   "metadata": {},
   "outputs": [
    {
     "data": {
      "text/plain": [
       "'0xffffffff00000001000000000000000000000000fffffffffffffffffffffff5'"
      ]
     },
     "execution_count": 27,
     "metadata": {},
     "output_type": "execute_result"
    }
   ],
   "source": [
    "hex(z)"
   ]
  }
 ],
 "metadata": {
  "kernelspec": {
   "display_name": "SageMath 10.0",
   "language": "sage",
   "name": "sagemath"
  },
  "language_info": {
   "codemirror_mode": {
    "name": "ipython",
    "version": 3
   },
   "file_extension": ".py",
   "mimetype": "text/x-python",
   "name": "python",
   "nbconvert_exporter": "python",
   "pygments_lexer": "ipython3",
   "version": "3.11.3"
  }
 },
 "nbformat": 4,
 "nbformat_minor": 5
}
